{
 "cells": [
  {
   "cell_type": "markdown",
   "id": "b94dc6052c9c1a30",
   "metadata": {},
   "source": [
    "## Import needed libraries\n",
    "if you don't have these libraries please run requirements.txt first to install them."
   ]
  },
  {
   "cell_type": "code",
   "execution_count": 1,
   "id": "initial_id",
   "metadata": {
    "ExecuteTime": {
     "end_time": "2025-04-06T21:51:27.971242Z",
     "start_time": "2025-04-06T21:51:26.879588Z"
    },
    "collapsed": true
   },
   "outputs": [],
   "source": [
    "import numpy as np\n",
    "import matplotlib.pyplot as plt\n",
    "from itertools import combinations"
   ]
  },
  {
   "cell_type": "markdown",
   "id": "658660e0021930fa",
   "metadata": {},
   "source": [
    "## Functions"
   ]
  },
  {
   "cell_type": "code",
   "execution_count": 3,
   "id": "eaccc2cabe3fab28",
   "metadata": {
    "ExecuteTime": {
     "end_time": "2025-04-06T21:51:33.191580Z",
     "start_time": "2025-04-06T21:51:33.186622Z"
    }
   },
   "outputs": [],
   "source": [
    "# Make a random 3*3 board\n",
    "def make_random_board():\n",
    "    moves = ['X', 'O', ''] # Each sell can be on\n",
    "    board = [np.random.choice(moves) for _ in range(9)] # Make a random array with length 9\n",
    "    board = np.array(board)\n",
    "    board = board.reshape(3, 3) # Reshape the array to 3*3\n",
    "    return board"
   ]
  },
  {
   "cell_type": "code",
   "execution_count": 2,
   "id": "270609779f81381",
   "metadata": {},
   "outputs": [],
   "source": [
    "# Helper function to check if a player has won\n",
    "def check_winner(board, player):\n",
    "    # Check rows, columns, and diagonals for a win\n",
    "    for i in range(3):\n",
    "        if np.all(board[i, :] == player) or np.all(board[:, i] == player):\n",
    "            return True\n",
    "    if np.all(np.diag(board) == player) or np.all(np.diag(np.fliplr(board)) == player):\n",
    "        return True\n",
    "    return False"
   ]
  },
  {
   "cell_type": "code",
   "execution_count": null,
   "id": "d78eacd04a259222",
   "metadata": {},
   "outputs": [],
   "source": [
    "# Check if a given board is valid\n",
    "def is_valid_board(board):\n",
    "    # Flatten the board for easier processing\n",
    "    flat_board = board.flatten()\n",
    "    \n",
    "    # Count the number of X's and O's\n",
    "    x_count = np.sum(flat_board == 'X')\n",
    "    o_count = np.sum(flat_board == 'O')\n",
    "    \n",
    "    # Rule 1: X's must be equal to or at most one more than O's\n",
    "    if not (x_count == o_count or x_count == o_count + 1):\n",
    "        return False\n",
    "    \n",
    "    # Check if X or O has won\n",
    "    x_wins = check_winner(board, 'X')\n",
    "    o_wins = check_winner(board, 'O')\n",
    "    \n",
    "    # Rule 2: Both players cannot win simultaneously\n",
    "    if x_wins and o_wins:\n",
    "        return False\n",
    "    \n",
    "    # Rule 3: If X wins, there must be one more X than O\n",
    "    if x_wins and x_count != o_count + 1:\n",
    "        return False\n",
    "    \n",
    "    # Rule 4: If O wins, X and O counts must be equal\n",
    "    if o_wins and x_count != o_count:\n",
    "        return False\n",
    "    \n",
    "    # If all checks pass, the board is valid\n",
    "    return True"
   ]
  },
  {
   "cell_type": "code",
   "execution_count": null,
   "id": "b922f7d346098afc",
   "metadata": {},
   "outputs": [],
   "source": [
    "# Use Monte Carlo simulation (5000 round)\n",
    "def monte_carlo_simulation(n=5000):\n",
    "    valid_counter = 0 # Define counter for count valid board\n",
    "    for i in range(n):\n",
    "        board = make_random_board() # Make a random board\n",
    "        if is_valid_board(board): # If board is valid, valid counter increase 1\n",
    "            valid_counter += 1\n",
    "    valid_ratio = valid_counter/n * 100 # Ratio of valid boards\n",
    "    return valid_counter, valid_ratio"
   ]
  },
  {
   "cell_type": "code",
   "execution_count": 19,
   "id": "f0b71c8b1b7d6a1c",
   "metadata": {
    "ExecuteTime": {
     "end_time": "2025-04-07T02:20:54.241355Z",
     "start_time": "2025-04-07T02:20:54.234338Z"
    }
   },
   "outputs": [],
   "source": [
    "# Make all board with 5 moves(3 'X' & 2'O')\n",
    "def make_all_5_moves():\n",
    "    all_positions = np.arange(9) # Make an array between 1-9\n",
    "    boards = [] # Define a list of all boards\n",
    "\n",
    "    for filled in combinations(all_positions, 5): # All combination (5 ['X' or 'O'] in 9 cells)\n",
    "        for x_pos in combinations(filled, 3): # All combination (3 'X' at 5 selected cells)\n",
    "            board = np.full(9, '') # Make an empty board\n",
    "            board[list(x_pos)] = 'X' # Place 'X's\n",
    "            board[[i for i in filled if i not in x_pos]] = 'O'# Place 'O's\n",
    "            boards.append(board.reshape(3, 3)) # Reshape the array to 3*3\n",
    "\n",
    "    return boards\n",
    "#print(*make_all_5_moves(), sep='\\n')"
   ]
  },
  {
   "cell_type": "code",
   "execution_count": null,
   "id": "274f4dc8047ddaa5",
   "metadata": {},
   "outputs": [],
   "source": [
    "def validate():\n",
    "    pass"
   ]
  },
  {
   "cell_type": "code",
   "execution_count": null,
   "id": "866d2a471bebe7e6",
   "metadata": {},
   "outputs": [],
   "source": [
    "def plot():\n",
    "    pass"
   ]
  },
  {
   "cell_type": "markdown",
   "id": "9f24486f5a2e1c37",
   "metadata": {},
   "source": [
    "## Main Menu"
   ]
  },
  {
   "cell_type": "code",
   "execution_count": 7,
   "id": "b46e62e2e9f01019",
   "metadata": {
    "ExecuteTime": {
     "end_time": "2025-04-06T21:51:50.429672Z",
     "start_time": "2025-04-06T21:51:50.424663Z"
    }
   },
   "outputs": [
    {
     "name": "stdout",
     "output_type": "stream",
     "text": [
      "[['' '' 'O']\n",
      " ['O' 'O' 'O']\n",
      " ['O' 'X' 'O']]\n"
     ]
    }
   ],
   "source": [
    "if __name__ == '__main__':\n",
    "    Valid_count, Valid_ratio = monte_carlo_simulation(5000)\n",
    "    print(f'Number of valid boards: {Valid_count}')\n",
    "    print(f'Ratio of valid boards: {Valid_ratio.__round__(2)}')"
   ]
  },
  {
   "cell_type": "markdown",
   "id": "1d4a1f05f019df42",
   "metadata": {},
   "source": [
    "## Estimation & Validation"
   ]
  },
  {
   "cell_type": "code",
   "execution_count": null,
   "id": "5ab49d3240788299",
   "metadata": {},
   "outputs": [],
   "source": []
  },
  {
   "cell_type": "markdown",
   "id": "544930214d306335",
   "metadata": {},
   "source": [
    "## Conclusion"
   ]
  },
  {
   "cell_type": "code",
   "execution_count": null,
   "id": "f0b4eecc4b7db334",
   "metadata": {},
   "outputs": [],
   "source": []
  }
 ],
 "metadata": {
  "kernelspec": {
   "display_name": "Python 3",
   "language": "python",
   "name": "python3"
  },
  "language_info": {
   "codemirror_mode": {
    "name": "ipython",
    "version": 3
   },
   "file_extension": ".py",
   "mimetype": "text/x-python",
   "name": "python",
   "nbconvert_exporter": "python",
   "pygments_lexer": "ipython3",
   "version": "3.11.4"
  }
 },
 "nbformat": 4,
 "nbformat_minor": 5
}
