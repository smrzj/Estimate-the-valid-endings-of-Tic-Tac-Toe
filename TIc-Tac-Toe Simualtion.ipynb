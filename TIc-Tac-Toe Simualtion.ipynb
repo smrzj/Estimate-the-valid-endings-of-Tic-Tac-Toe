{
 "cells": [
  {
   "metadata": {},
   "cell_type": "markdown",
   "source": [
    "## Import needed libraries\n",
    "if you don't have these libraries please run requirements.txt first to install them."
   ],
   "id": "b94dc6052c9c1a30"
  },
  {
   "cell_type": "code",
   "id": "initial_id",
   "metadata": {
    "collapsed": true,
    "ExecuteTime": {
     "end_time": "2025-04-06T21:51:27.971242Z",
     "start_time": "2025-04-06T21:51:26.879588Z"
    }
   },
   "source": [
    "import numpy as np\n",
    "import matplotlib.pyplot as plt"
   ],
   "outputs": [],
   "execution_count": 1
  },
  {
   "metadata": {},
   "cell_type": "markdown",
   "source": "## Functions",
   "id": "658660e0021930fa"
  },
  {
   "metadata": {
    "ExecuteTime": {
     "end_time": "2025-04-06T21:51:33.191580Z",
     "start_time": "2025-04-06T21:51:33.186622Z"
    }
   },
   "cell_type": "code",
   "source": [
    "def make_random_board():\n",
    "    moves = ['X', 'O', '']\n",
    "    board = [np.random.choice(moves) for _ in range(9)]\n",
    "    board = np.array(board)\n",
    "    board = board.reshape(3, 3)\n",
    "    return board"
   ],
   "id": "eaccc2cabe3fab28",
   "outputs": [],
   "execution_count": 2
  },
  {
   "metadata": {},
   "cell_type": "code",
   "outputs": [],
   "execution_count": null,
   "source": [
    "def check_winner(board):\n",
    "    pass"
   ],
   "id": "270609779f81381"
  },
  {
   "metadata": {},
   "cell_type": "code",
   "outputs": [],
   "execution_count": null,
   "source": [
    "def is_valid_board(board):\n",
    "    pass"
   ],
   "id": "d78eacd04a259222"
  },
  {
   "metadata": {},
   "cell_type": "code",
   "outputs": [],
   "execution_count": null,
   "source": [
    "def monte_carlo_simulation(n=5000):\n",
    "    valid_counter = 0\n",
    "    for i in range(n):\n",
    "        board = make_random_board()\n",
    "        if is_valid_board(board):\n",
    "            valid_counter += 1\n",
    "    valid_ratio = valid_counter/n\n",
    "    return valid_counter, valid_ratio"
   ],
   "id": "b922f7d346098afc"
  },
  {
   "metadata": {},
   "cell_type": "code",
   "outputs": [],
   "execution_count": null,
   "source": [
    "def make_all_5_moves():\n",
    "    pass"
   ],
   "id": "f0b71c8b1b7d6a1c"
  },
  {
   "metadata": {},
   "cell_type": "code",
   "outputs": [],
   "execution_count": null,
   "source": [
    "def validate():\n",
    "    pass"
   ],
   "id": "274f4dc8047ddaa5"
  },
  {
   "metadata": {},
   "cell_type": "code",
   "outputs": [],
   "execution_count": null,
   "source": [
    "def plot():\n",
    "    pass"
   ],
   "id": "866d2a471bebe7e6"
  },
  {
   "metadata": {},
   "cell_type": "markdown",
   "source": "## Main Menu",
   "id": "9f24486f5a2e1c37"
  },
  {
   "metadata": {
    "ExecuteTime": {
     "end_time": "2025-04-06T21:51:50.429672Z",
     "start_time": "2025-04-06T21:51:50.424663Z"
    }
   },
   "cell_type": "code",
   "source": [
    "if __name__ == '__main__':\n",
    "    Valid_count, Valid_ratio = monte_carlo_simulation(5000)\n",
    "    print(f'Number of valid boards: {Valid_count}')\n",
    "    print(f'Ratio of valid boards: {Valid_ratio.__round__(2)}')"
   ],
   "id": "b46e62e2e9f01019",
   "outputs": [
    {
     "name": "stdout",
     "output_type": "stream",
     "text": [
      "[['' '' 'O']\n",
      " ['O' 'O' 'O']\n",
      " ['O' 'X' 'O']]\n"
     ]
    }
   ],
   "execution_count": 7
  },
  {
   "metadata": {},
   "cell_type": "markdown",
   "source": "## Estimation & Validation",
   "id": "1d4a1f05f019df42"
  },
  {
   "metadata": {},
   "cell_type": "code",
   "outputs": [],
   "execution_count": null,
   "source": "",
   "id": "5ab49d3240788299"
  },
  {
   "metadata": {},
   "cell_type": "markdown",
   "source": "## Conclusion",
   "id": "544930214d306335"
  },
  {
   "metadata": {},
   "cell_type": "code",
   "outputs": [],
   "execution_count": null,
   "source": "",
   "id": "f0b4eecc4b7db334"
  }
 ],
 "metadata": {
  "kernelspec": {
   "display_name": "Python 3",
   "language": "python",
   "name": "python3"
  },
  "language_info": {
   "codemirror_mode": {
    "name": "ipython",
    "version": 2
   },
   "file_extension": ".py",
   "mimetype": "text/x-python",
   "name": "python",
   "nbconvert_exporter": "python",
   "pygments_lexer": "ipython2",
   "version": "2.7.6"
  }
 },
 "nbformat": 4,
 "nbformat_minor": 5
}
